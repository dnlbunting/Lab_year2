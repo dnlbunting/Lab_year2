{
 "cells": [
  {
   "cell_type": "code",
   "execution_count": 1,
   "metadata": {
    "collapsed": false
   },
   "outputs": [],
   "source": [
    "%matplotlib inline\n",
    "\n",
    "import numpy as np\n",
    "import pandas as pd\n",
    "from uncertainties import ufloat\n",
    "from uncertainties import unumpy\n",
    "from uncertainties.unumpy import nominal_values, std_devs\n",
    "from uncertainties.umath import *\n",
    "import matplotlib.pyplot as plt\n",
    "from sklearn.mixture import GMM, VBGMM\n",
    "from scipy.stats import norm\n",
    "from scipy.optimize import curve_fit"
   ]
  },
  {
   "cell_type": "code",
   "execution_count": 2,
   "metadata": {
    "collapsed": false
   },
   "outputs": [
    {
     "name": "stdout",
     "output_type": "stream",
     "text": [
      "100\n"
     ]
    }
   ],
   "source": [
    "run1 = pd.read_csv(\"/Users/Daniel/Desktop/Milikan's Oil Drop Experiment/run1.tsv\", sep='\\t')\n",
    "run2 = pd.read_csv(\"/Users/Daniel/Desktop/Milikan's Oil Drop Experiment/run2.tsv\", sep='\\t')\n",
    "print len(run2)"
   ]
  },
  {
   "cell_type": "code",
   "execution_count": 3,
   "metadata": {
    "collapsed": false
   },
   "outputs": [],
   "source": [
    "## Constants ##\n",
    "T = 25\n",
    "g = 9.807\n",
    "d = ufloat(0.006, 0.05e-3)\n",
    "rho = 871\n",
    "eta_20 = 1.82e-5 ## Can we esitmate error using curvature?\n",
    "deta_dt = 5e-8\n",
    "eta = eta_20 + deta_dt*T\n",
    "scale = 0.5e-3\n",
    "\n",
    "## Measurement uncertainites ##\n",
    "V_err = 3\n",
    "x_err = 0.1\n",
    "t_err = 0.25\n",
    "\n",
    "\n",
    "\n",
    "def calc_q_obs(X):\n",
    "    t_g, x_g, t_f, x_f, V = X[:5]\n",
    "    \n",
    "    t_g = ufloat(X['t_g'], t_err)\n",
    "    x_g = ufloat(X['x_g'], x_err)*scale\n",
    "    t_f = ufloat(X['t_f'], t_err)\n",
    "    x_f = ufloat(X['x_f'], x_err)*scale\n",
    "    V = ufloat(X['V'], V_err)\n",
    "    \n",
    "    v_g = x_g/t_g\n",
    "    v_f = x_f/t_f\n",
    "    \n",
    "    E = V/d\n",
    "    c = 6*np.pi*sqrt(4.5)*(eta**1.5)/sqrt(rho*g)\n",
    "    \n",
    "    return c*sqrt(v_g)*(v_g + v_f)/E\n",
    "\n",
    "\n",
    "def calc_a(X):\n",
    "    t_g = ufloat(X['t_g'], t_err)\n",
    "    x_g = ufloat(X['x_g'], x_err)*scale\n",
    "    c = 4.5*eta/(rho*g)\n",
    "    return sqrt(c*x_g/t_g)\n",
    "\n",
    "def calc_v_g(X):\n",
    "    t_g = ufloat(X['t_g'], t_err)\n",
    "    x_g = ufloat(X['x_g'], x_err)*scale\n",
    "    return x_g/t_g\n",
    "\n",
    "  "
   ]
  },
  {
   "cell_type": "code",
   "execution_count": 4,
   "metadata": {
    "collapsed": false
   },
   "outputs": [
    {
     "name": "stdout",
     "output_type": "stream",
     "text": [
      "[ 2.24855949  4.26673453  6.23622138] [ 0.21005294  0.1979885   0.12996166]\n"
     ]
    },
    {
     "data": {
      "image/png": "[encoded data removed]",
      "text/plain": [
       "<matplotlib.figure.Figure at 0x10b885050>"
      ]
     },
     "metadata": {},
     "output_type": "display_data"
    }
   ],
   "source": [
    "q = pd.concat((run1, run2)).apply(calc_q_obs, axis=1)\n",
    "a = pd.concat((run1, run2)).apply(calc_a, axis=1)\n",
    "v_g = pd.concat((run1, run2)).apply(calc_v_g, axis=1)\n",
    "\n",
    "mask = [x.nominal_value < 7.5e-19 for x in q]\n",
    "\n",
    "# Filter at n_e=3\n",
    "q_filt = unumpy.uarray([x.nominal_value for x in q if x < 7.5e-19], [x.std_dev for x in q if x < 7.5e-19])\n",
    "a_filt = unumpy.uarray([x.nominal_value for x in a[mask]], [x.std_dev for x in a[mask]])\n",
    "vg_filt = unumpy.uarray([x.nominal_value for x in v_g[mask]], [x.std_dev for x in v_g[mask]])\n",
    "\n",
    "\n",
    "mu = np.zeros(3)\n",
    "sig = np.zeros(3)\n",
    "\n",
    "mu[0], sig[0] = norm.fit([x.nominal_value*1e19 for x in q if 1.5e-19< x < 3.5e-19])\n",
    "mu[1], sig[1] = norm.fit([x.nominal_value*1e19 for x in q if 3.5e-19< x < 5.5e-19])\n",
    "mu[2], sig[2] = norm.fit([x.nominal_value*1e19 for x in q if 5.5e-19< x < 7e-19])\n",
    "\n",
    "q_uncorr = unumpy.uarray(mu,sig)*1.e-19/np.array([1,2,3])\n",
    "q_uncorr_diff =  [ unumpy.uarray(mu,sig)[i+1]*1.e-19 - unumpy.uarray(mu,sig)[i]*1.e-19 for i in range(2)]  \n",
    "\n",
    "x = np.linspace(0, 8e-19, 500)*1e19\n",
    "for i in range(3):\n",
    "    plt.gca().plot(x, norm.pdf(x, loc=mu[i], scale=sig[i])*10)\n",
    "plt.hist(nominal_values(q_filt)*1e19, bins=80, normed=False)\n",
    "plt.xlabel(\"$\\mathrm{Charge (C)}/10^{-19}$\")\n",
    "plt.ylabel(\"Counts\")\n",
    "#plt.savefig(\"GMM.pdf\")\n",
    "\n",
    "print mu,sig"
   ]
  },
  {
   "cell_type": "code",
   "execution_count": 5,
   "metadata": {
    "collapsed": false
   },
   "outputs": [
    {
     "name": "stdout",
     "output_type": "stream",
     "text": [
      "[[ 22.27286544]\n",
      " [ 42.46092285]\n",
      " [ 62.36221383]]\n",
      "[[[ 1.81938041]]\n",
      "\n",
      " [[ 5.39435059]]\n",
      "\n",
      " [[ 1.69000328]]]\n",
      "[ 0.51327407  0.33628345  0.15044248]\n"
     ]
    },
    {
     "data": {
      "image/png": "[encoded data removed]",
      "text/plain": [
       "<matplotlib.figure.Figure at 0x10bd6e950>"
      ]
     },
     "metadata": {},
     "output_type": "display_data"
    }
   ],
   "source": [
    "# Use a GMM for separating clusters\n",
    "gmm = GMM(3, covariance_type=\"full\", init_params='', tol=1e-10)\n",
    "\n",
    "gmm.means_ = np.array([[22.5], [42], [62]])\n",
    "gmm.covars_ = np.array([[[2]],[[2]],[[1.2]]])\n",
    "gmm.wieghts_ = np.array([.01,0.01,1])\n",
    "\n",
    "\n",
    "gmm.fit(np.reshape((nominal_values(q_filt)), (len(q_filt), 1))*1e20)\n",
    "print gmm.means_ \n",
    "print gmm.covars_\n",
    "print gmm.weights_\n",
    "\n",
    "\n",
    "x = np.linspace(0, 10e-19, 500)*1e20\n",
    "p = gmm.predict_proba(x.reshape(500,1))\n",
    "\n",
    "\n",
    "\n",
    "for i in range(3):\n",
    "    plt.gca().plot(x, gmm.weights_[i]*norm.pdf(x, loc=gmm.means_[i], scale=gmm.covars_[i][0]))\n",
    "plt.hist(nominal_values(q_filt)*1e20, bins=100, normed=True)\n",
    "\n",
    "n_e = gmm.predict(np.reshape(nominal_values(q_filt), (len(q_filt), 1))*1e20) + 1"
   ]
  },
  {
   "cell_type": "code",
   "execution_count": 6,
   "metadata": {
    "collapsed": false
   },
   "outputs": [
    {
     "data": {
      "image/png": "[encoded data removed]",
      "text/plain": [
       "<matplotlib.figure.Figure at 0x10c852790>"
      ]
     },
     "metadata": {},
     "output_type": "display_data"
    }
   ],
   "source": [
    "X = 1./np.sqrt(np.linspace(min(vg_filt).nominal_value, max(vg_filt).nominal_value, 50))\n",
    "x = 1./unumpy.sqrt(vg_filt)\n",
    "\n",
    "plt.errorbar(nominal_values(x), nominal_values(q_filt),\n",
    "             xerr=std_devs(x), yerr=std_devs(q_filt), \n",
    "             linestyle=\"None\", fmt='None', ecolor='black')\n",
    "\n",
    "plt.scatter(nominal_values(x), nominal_values(q_filt), c=n_e-1, s=20, linewidth=0)\n",
    "fits = [None, None, None]\n",
    "for i in range(3):\n",
    "    fits[i] = curve_fit(lambda x,a,b:a*x+b, \n",
    "                        nominal_values(x[n_e==i+1]), \n",
    "                        nominal_values(q_filt[n_e==i+1]), \n",
    "                        sigma = std_devs(q_filt[n_e==i+1]),\n",
    "                        absolute_sigma=True)\n",
    "    plt.plot(X, fits[i][0][0]*X+fits[i][0][1])\n",
    "\n",
    "plt.xlabel(\"$v_g^{-0.5}$\")\n",
    "plt.ylabel(\"$\\mathrm{Charge (C)}/10^{-19}$\")\n",
    "\n",
    "plt.savefig(\"Corrected1.pdf\")\n",
    "\n",
    "q_corr1 = [ufloat(fits[i][0][1], np.sqrt(fits[i][1][1,1]))/(i+1) for i in range(3)] \n",
    "q_corr1_diff = [ufloat(fits[i+1][0][1], np.sqrt(fits[i+1][1][1,1])) \n",
    "           - ufloat(fits[i][0][1], np.sqrt(fits[i][1][1,1]))  for i in range(2)]    \n",
    "\n"
   ]
  },
  {
   "cell_type": "code",
   "execution_count": 7,
   "metadata": {
    "collapsed": false
   },
   "outputs": [
    {
     "name": "stdout",
     "output_type": "stream",
     "text": [
      "[2.0098066565972984e-19+/-6.800721342836305e-21, 1.792990684307775e-19+/-5.2818329775623726e-21, 1.879830269369539e-19+/-1.1771816006644414e-20]\n",
      "[1.5761747120182517e-19+/-1.2563472815840801e-20, 2.0535094394930672e-19+/-3.6861523398525844e-20]\n"
     ]
    },
    {
     "data": {
      "image/png": "[encoded data removed]",
      "text/plain": [
       "<matplotlib.figure.Figure at 0x10c7c3f50>"
      ]
     },
     "metadata": {},
     "output_type": "display_data"
    }
   ],
   "source": [
    "\n",
    "x = 1./a_filt\n",
    "y = q_filt**(2./3)\n",
    "\n",
    "X = np.linspace(min(x).nominal_value, max(x).nominal_value, 50)\n",
    "\n",
    "plt.errorbar(nominal_values(x), nominal_values(y),\n",
    "             xerr=std_devs(x), yerr=std_devs(y), \n",
    "             linestyle=\"None\", fmt='None', ecolor='black')\n",
    "\n",
    "\n",
    "plt.scatter(nominal_values(x), nominal_values(y), c=n_e-1, s=20, linewidth=0)\n",
    "\n",
    "np.set_printoptions(2)\n",
    "t = plt.xticks()[0]\n",
    "#plt.xticks(t,  1./np.array(t))\n",
    "plt.ticklabel_format(style='sci', axis='x', scilimits=(0,0))\n",
    "plt.xlabel(r\"$\\frac{1}{a}$\")\n",
    "plt.ylim(0,1e-12)\n",
    "plt.ylabel(\"$q_{obs}^{2/3}$\")\n",
    "\n",
    "\n",
    "fits = [0,0,0]\n",
    "for i in range(3):\n",
    "    fits[i] = curve_fit(lambda x,a,b:a*x+b, \n",
    "                        nominal_values(x[n_e==i+1]), \n",
    "                        nominal_values(y[n_e==i+1]), \n",
    "                        sigma = std_devs(y[n_e==i+1]),\n",
    "                        absolute_sigma=True)\n",
    "\n",
    "    plt.plot(X, fits[i][0][0]*X+fits[i][0][1])\n",
    "    \n",
    "plt.savefig(\"Corrected2.pdf\")\n",
    "\n",
    "\n",
    "\n",
    "q_corr2 = [(ufloat(fits[i][0][1], np.sqrt(fits[i][1][1,1]))**1.5)/(i+1) for i in range(3)]  \n",
    "print q_corr2\n",
    "\n",
    "q_corr2_diff = [ufloat(fits[i+1][0][1], np.sqrt(fits[i+1][1][1,1]))**1.5 \n",
    "              - ufloat(fits[i][0][1], np.sqrt(fits[i][1][1,1]))**1.5  for i in range(2)] \n",
    "\n",
    "print q_corr2_diff"
   ]
  },
  {
   "cell_type": "code",
   "execution_count": 8,
   "metadata": {
    "collapsed": false,
    "scrolled": true
   },
   "outputs": [
    {
     "name": "stdout",
     "output_type": "stream",
     "text": [
      "Uncorrected\n",
      "\\left(2.25 \\pm 0.21\\right) \\times 10^{-19}\n",
      "\\left(2.13 \\pm 0.10\\right) \\times 10^{-19}\n",
      "\\left(2.08 \\pm 0.04\\right) \\times 10^{-19}\n",
      "(2.15+/-0.08)e-19\n",
      "First order corrected\n",
      "\\left(1.99 \\pm 0.07\\right) \\times 10^{-19}\n",
      "\\left(1.78 \\pm 0.06\\right) \\times 10^{-19}\n",
      "\\left(1.88 \\pm 0.12\\right) \\times 10^{-19}\n",
      "(1.88+/-0.05)e-19\n",
      "Milikan corrected\n",
      "\\left(2.01 \\pm 0.07\\right) \\times 10^{-19}\n",
      "\\left(1.79 \\pm 0.05\\right) \\times 10^{-19}\n",
      "\\left(1.88 \\pm 0.12\\right) \\times 10^{-19}\n",
      "(1.89+/-0.05)e-19\n",
      "Ucorrected differences\n",
      "\\left(2.02 \\pm 0.29\\right) \\times 10^{-19}\n",
      "\\left(1.97 \\pm 0.24\\right) \\times 10^{-19}\n",
      "(1.99+/-0.19)e-19\n",
      "First order corrected differences\n",
      "\\left(1.57 \\pm 0.13\\right) \\times 10^{-19}\n",
      "\\left(2.1 \\pm 0.4\\right) \\times 10^{-19}\n",
      "(1.82+/-0.20)e-19\n",
      "Milikan corrected differences\n",
      "\\left(1.58 \\pm 0.13\\right) \\times 10^{-19}\n",
      "\\left(2.1 \\pm 0.4\\right) \\times 10^{-19}\n",
      "(1.81+/-0.19)e-19\n"
     ]
    }
   ],
   "source": [
    "print \"Uncorrected\"\n",
    "for p in  q_uncorr:\n",
    "    print '{:L}'.format(p)\n",
    "print np.mean(q_uncorr)\n",
    "\n",
    "print \"First order corrected\"\n",
    "for p in  q_corr1:\n",
    "    print '{:L}'.format(p)\n",
    "print np.mean(q_corr1)\n",
    "\n",
    "\n",
    "print \"Milikan corrected\"\n",
    "for p in  q_corr2:\n",
    "    print '{:L}'.format(p)\n",
    "print np.mean(q_corr2)\n",
    "\n",
    "print \"Ucorrected differences\"\n",
    "for p in  q_uncorr_diff:\n",
    "    print '{:L}'.format(p)\n",
    "\n",
    "print np.mean(q_uncorr_diff)\n",
    "\n",
    "\n",
    "print \"First order corrected differences\"\n",
    "for p in  q_corr1_diff:\n",
    "    print '{:L}'.format(p)\n",
    "\n",
    "print np.mean(q_corr1_diff)\n",
    "\n",
    "print \"Milikan corrected differences\"\n",
    "for p in  q_corr2_diff:\n",
    "    print '{:L}'.format(p)\n",
    "\n",
    "print np.mean(q_corr2_diff)\n"
   ]
  },
  {
   "cell_type": "code",
   "execution_count": 9,
   "metadata": {
    "collapsed": false
   },
   "outputs": [
    {
     "data": {
      "text/plain": [
       "678.3890539643232+/-0.8560650993447204"
      ]
     },
     "execution_count": 9,
     "metadata": {},
     "output_type": "execute_result"
    }
   ],
   "source": [
    "np.mean(a_filt)/1e-9"
   ]
  },
  {
   "cell_type": "code",
   "execution_count": null,
   "metadata": {
    "collapsed": true
   },
   "outputs": [],
   "source": []
  },
  {
   "cell_type": "code",
   "execution_count": null,
   "metadata": {
    "collapsed": false
   },
   "outputs": [],
   "source": []
  },
  {
   "cell_type": "code",
   "execution_count": null,
   "metadata": {
    "collapsed": false
   },
   "outputs": [],
   "source": []
  },
  {
   "cell_type": "code",
   "execution_count": null,
   "metadata": {
    "collapsed": true
   },
   "outputs": [],
   "source": []
  }
 ],
 "metadata": {
  "kernelspec": {
   "display_name": "Python 2",
   "language": "python",
   "name": "python2"
  },
  "language_info": {
   "codemirror_mode": {
    "name": "ipython",
    "version": 2
   },
   "file_extension": ".py",
   "mimetype": "text/x-python",
   "name": "python",
   "nbconvert_exporter": "python",
   "pygments_lexer": "ipython2",
   "version": "2.7.10"
  }
 },
 "nbformat": 4,
 "nbformat_minor": 0
}
